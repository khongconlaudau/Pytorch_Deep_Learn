{
 "cells": [
  {
   "cell_type": "code",
   "execution_count": 6,
   "id": "3d99efd7-8f2c-4182-842a-2ea892f3e8d2",
   "metadata": {},
   "outputs": [
    {
     "data": {
      "text/plain": [
       "'2.7.1+cu128'"
      ]
     },
     "execution_count": 6,
     "metadata": {},
     "output_type": "execute_result"
    }
   ],
   "source": [
    "import torch\n",
    "from torch import nn \n",
    "import matplotlib.pyplot as plt\n",
    "\n",
    "torch.__version__"
   ]
  },
  {
   "cell_type": "code",
   "execution_count": 13,
   "id": "8dabbe9b-95f0-411b-8910-22abdf4c307f",
   "metadata": {},
   "outputs": [
    {
     "data": {
      "text/plain": [
       "(tensor([[0.0000],\n",
       "         [0.0200],\n",
       "         [0.0400],\n",
       "         [0.0600],\n",
       "         [0.0800],\n",
       "         [0.1000],\n",
       "         [0.1200],\n",
       "         [0.1400],\n",
       "         [0.1600],\n",
       "         [0.1800]]),\n",
       " tensor([[0.3000],\n",
       "         [0.3140],\n",
       "         [0.3280],\n",
       "         [0.3420],\n",
       "         [0.3560],\n",
       "         [0.3700],\n",
       "         [0.3840],\n",
       "         [0.3980],\n",
       "         [0.4120],\n",
       "         [0.4260]]))"
      ]
     },
     "execution_count": 13,
     "metadata": {},
     "output_type": "execute_result"
    }
   ],
   "source": [
    "# Create known params \n",
    "weight = 0.7\n",
    "bias = 0.3\n",
    "\n",
    "# Create data\n",
    "start, end = 0, 1\n",
    "step = 0.02\n",
    "X = torch.arange(start, end, step).unsqueeze(dim=1)\n",
    "y = weight * X + bias\n",
    "\n",
    "X[:10], y[:10]"
   ]
  },
  {
   "cell_type": "code",
   "execution_count": 14,
   "id": "f7bfb15c-61fe-4664-9e57-6e071c66ad75",
   "metadata": {},
   "outputs": [
    {
     "data": {
      "text/plain": [
       "(40, 40, 10, 10)"
      ]
     },
     "execution_count": 14,
     "metadata": {},
     "output_type": "execute_result"
    }
   ],
   "source": [
    "# Create train/test split \n",
    "train_split = int(0.8 * len(X))\n",
    "X_train, y_train = X[:train_split], y[:train_split]\n",
    "X_test, y_test = X[train_split:], y[train_split:]\n",
    "\n",
    "len(X_train), len(y_train), len(X_test), len(y_test)\n"
   ]
  },
  {
   "cell_type": "code",
   "execution_count": 17,
   "id": "5e36f1a9-38cf-41e1-8288-cdd174f5a552",
   "metadata": {},
   "outputs": [],
   "source": [
    "def plot_predictions(train_data=X_train,\n",
    "                    train_labels=y_train,\n",
    "                    test_data=X_test,\n",
    "                    test_labels=y_test,\n",
    "                    predictions=None):\n",
    "    plt.figure(figsize=(10, 7))\n",
    "\n",
    "    # plot training data in blue\n",
    "    plt.scatter(train_data, train_labels, c=\"b\", label=\"Traning data\")\n",
    "\n",
    "    # plot test data in green \n",
    "    plt.scatter(test_data, test_labels, c=\"g\", label=\"Test data\")\n",
    "\n",
    "    if predictions is not None:\n",
    "        plt.scatter(test_data, predictions, c=\"r\", label=\"Predictions\")\n",
    "\n",
    "    plt.legend(prop={\"size\": 14});"
   ]
  },
  {
   "cell_type": "code",
   "execution_count": 19,
   "id": "86682275-875c-46f1-9464-d7255350e24c",
   "metadata": {},
   "outputs": [
    {
     "data": {
      "image/png": "[encoded data removed]",
      "text/plain": [
       "<Figure size 1000x700 with 1 Axes>"
      ]
     },
     "metadata": {},
     "output_type": "display_data"
    }
   ],
   "source": [
    "plot_predictions()"
   ]
  },
  {
   "cell_type": "code",
   "execution_count": 29,
   "id": "a3e47565-37e8-40e2-8a06-a35e5a7ae464",
   "metadata": {},
   "outputs": [],
   "source": [
    "class LinearRegressionModel(nn.Module):\n",
    "    def __init__(self):\n",
    "        super().__init__()\n",
    "        self.weights = nn.Parameter(torch.rand(1, dtype=torch.float), requires_grad=True)\n",
    "        self.bias = nn.Parameter(torch.rand(1, dtype=torch.float), requires_grad=True)\n",
    "\n",
    "    def forward(self, x: torch.Tensor) -> torch.Tensor:\n",
    "        return self.weights * x + self.bias"
   ]
  },
  {
   "cell_type": "markdown",
   "id": "fcf32673-e465-43ca-b164-1dfd782b6111",
   "metadata": {},
   "source": [
    "## Checking the contents of a Pytorch model\n"
   ]
  },
  {
   "cell_type": "code",
   "execution_count": 30,
   "id": "fdb29be4-69c2-48b8-be9e-d8862498840e",
   "metadata": {},
   "outputs": [
    {
     "data": {
      "text/plain": [
       "[Parameter containing:\n",
       " tensor([0.8823], requires_grad=True),\n",
       " Parameter containing:\n",
       " tensor([0.9150], requires_grad=True)]"
      ]
     },
     "execution_count": 30,
     "metadata": {},
     "output_type": "execute_result"
    }
   ],
   "source": [
    "torch.manual_seed(42)\n",
    "\n",
    "model_0 = LinearRegressionModel()\n",
    "\n",
    "list(model_0.parameters())"
   ]
  },
  {
   "cell_type": "code",
   "execution_count": 31,
   "id": "34ee6f37-a1dc-4244-9d48-29399c31b066",
   "metadata": {},
   "outputs": [
    {
     "data": {
      "text/plain": [
       "OrderedDict([('weights', tensor([0.8823])), ('bias', tensor([0.9150]))])"
      ]
     },
     "execution_count": 31,
     "metadata": {},
     "output_type": "execute_result"
    }
   ],
   "source": [
    "# List named params \n",
    "model_0.state_dict()"
   ]
  },
  {
   "cell_type": "markdown",
   "id": "53c27a86-c195-44d5-9627-6fb3a16e272a",
   "metadata": {},
   "source": [
    "## Making predictions using torch.inference_mode()\n",
    "* You probably noticed we used torch.inference_mode() as a context manager (that's what the with torch.inference_mode(): is) to make the predictions.\n",
    "* As the name suggests, torch.inference_mode() is used when using a model for inference (making predictions)\n",
    "* torch.inference_mode() turns off a bunch of things (like gradient tracking, which is necessary for training but not for inference) to make forward-passes (data going through the forward() method) faster"
   ]
  },
  {
   "cell_type": "code",
   "execution_count": 32,
   "id": "79af82fa-dd5a-410d-842c-97f2c315e936",
   "metadata": {},
   "outputs": [],
   "source": [
    "# Make predictions with model\n",
    "with torch.inference_mode():\n",
    "    y_preds = model_0(X_test)\n",
    "    "
   ]
  },
  {
   "cell_type": "code",
   "execution_count": 33,
   "id": "cfb1764a-66dc-42b5-bcd9-dca1be1094bc",
   "metadata": {},
   "outputs": [
    {
     "name": "stdout",
     "output_type": "stream",
     "text": [
      "Number of testing samples: 10\n",
      "Number of predictions made: 10\n",
      "Predicted values:\n",
      "tensor([[1.6208],\n",
      "        [1.6385],\n",
      "        [1.6561],\n",
      "        [1.6738],\n",
      "        [1.6914],\n",
      "        [1.7090],\n",
      "        [1.7267],\n",
      "        [1.7443],\n",
      "        [1.7620],\n",
      "        [1.7796]])\n"
     ]
    }
   ],
   "source": [
    "# Check the predictions\n",
    "print(f\"Number of testing samples: {len(X_test)}\") \n",
    "print(f\"Number of predictions made: {len(y_preds)}\")\n",
    "print(f\"Predicted values:\\n{y_preds}\")"
   ]
  },
  {
   "cell_type": "code",
   "execution_count": 35,
   "id": "a8d8cc07-a0db-4262-8f33-0a662c4d318a",
   "metadata": {},
   "outputs": [
    {
     "data": {
      "image/png": "[encoded data removed]",
      "text/plain": [
       "<Figure size 1000x700 with 1 Axes>"
      ]
     },
     "metadata": {},
     "output_type": "display_data"
    }
   ],
   "source": [
    "plot_predictions(predictions=y_preds)"
   ]
  },
  {
   "cell_type": "code",
   "execution_count": 36,
   "id": "97be3f1a-83e7-4b45-9bd7-3c94ce7737a0",
   "metadata": {},
   "outputs": [
    {
     "data": {
      "text/plain": [
       "tensor([[-0.7608],\n",
       "        [-0.7645],\n",
       "        [-0.7681],\n",
       "        [-0.7718],\n",
       "        [-0.7754],\n",
       "        [-0.7790],\n",
       "        [-0.7827],\n",
       "        [-0.7863],\n",
       "        [-0.7900],\n",
       "        [-0.7936]])"
      ]
     },
     "execution_count": 36,
     "metadata": {},
     "output_type": "execute_result"
    }
   ],
   "source": [
    "y_test - y_preds"
   ]
  },
  {
   "cell_type": "markdown",
   "id": "fc1f41c8-2c90-4181-9db9-e8350aeb6371",
   "metadata": {},
   "source": [
    "# 3. Train model\n",
    "* For our model to update its parameters on its own, we'll need to add a few more things to our recipe\n",
    "* And that's a loss function as well as an optimizer."
   ]
  },
  {
   "cell_type": "code",
   "execution_count": 37,
   "id": "2da438fc-1ee2-45bd-9d24-a66766d73810",
   "metadata": {},
   "outputs": [],
   "source": [
    "# Create the loss function\n",
    "loss_fn = nn.L1Loss() # MAE loss is name as L1Loss\n",
    "\n",
    "# Create the optimizer \n",
    "optimizer = torch.optim.SGD(params=model_0.parameters(), \n",
    "                           lr=0.01)"
   ]
  },
  {
   "cell_type": "markdown",
   "id": "e827d5bb-e294-4e73-909f-f9bb5f81ed89",
   "metadata": {},
   "source": [
    "### Creating an optimization loop in PyTorch"
   ]
  },
  {
   "cell_type": "code",
   "execution_count": 38,
   "id": "7f104816-aafa-4504-9b14-6c783b663326",
   "metadata": {},
   "outputs": [
    {
     "name": "stdout",
     "output_type": "stream",
     "text": [
      "Epoch: 0 | MAE Train Loss: 0.6860889196395874 | MAE Test Loss: 0.7637526988983154 \n",
      "Epoch: 10 | MAE Train Loss: 0.5708791017532349 | MAE Test Loss: 0.6290428042411804 \n",
      "Epoch: 20 | MAE Train Loss: 0.45566922426223755 | MAE Test Loss: 0.4943329691886902 \n",
      "Epoch: 30 | MAE Train Loss: 0.34045934677124023 | MAE Test Loss: 0.35962313413619995 \n",
      "Epoch: 40 | MAE Train Loss: 0.2252494841814041 | MAE Test Loss: 0.2249133139848709 \n",
      "Epoch: 50 | MAE Train Loss: 0.1100396141409874 | MAE Test Loss: 0.09020347893238068 \n",
      "Epoch: 60 | MAE Train Loss: 0.009724985808134079 | MAE Test Loss: 0.020998019725084305 \n",
      "Epoch: 70 | MAE Train Loss: 0.006216754671186209 | MAE Test Loss: 0.014099234715104103 \n",
      "Epoch: 80 | MAE Train Loss: 0.002788322512060404 | MAE Test Loss: 0.005826681852340698 \n",
      "Epoch: 90 | MAE Train Loss: 0.007095950655639172 | MAE Test Loss: 0.00754010071977973 \n"
     ]
    }
   ],
   "source": [
    "torch.manual_seed(42)\n",
    "\n",
    "# set number of epoches (how many times the model will pass over the training data)\n",
    "epochs = 100\n",
    "\n",
    "# Create empty loss lists to track values\n",
    "train_loss_values = []\n",
    "test_loss_values = []\n",
    "epoch_count = []\n",
    "\n",
    "for epoch in range(epochs):\n",
    "    ### Training \n",
    "\n",
    "    # Put the model in training mode (This is the default state of a model)\n",
    "    model_0.train()\n",
    "\n",
    "    # 1. Foward pass on train data using the forward() method inside \n",
    "    y_pred = model_0(X_train)\n",
    "\n",
    "    # 2. Cal the loss\n",
    "    loss = loss_fn(y_pred, y_train)\n",
    "\n",
    "    # 3. Zero grad of the optimizer\n",
    "    optimizer.zero_grad()\n",
    "\n",
    "    # 4. Loss backwards\n",
    "    loss.backward()\n",
    "\n",
    "    # 5. Progress the optimizer \n",
    "    optimizer.step()\n",
    "\n",
    "    ### Testing \n",
    "\n",
    "    # Put the model in evaluation mode \n",
    "    model_0.eval()\n",
    "\n",
    "    with torch.inference_mode():\n",
    "        # 1 Forward pass on the test data\n",
    "        test_pred = model_0(X_test)\n",
    "\n",
    "        # 2. Cal the loss on test data\n",
    "        test_loss = loss_fn(test_pred, y_test.type(torch.float)) # predictions come in torch.float type, so comparisions need to be done with tensors of the same type\n",
    "\n",
    "        # Print the loss values\n",
    "        if epoch % 10 == 0:\n",
    "            epoch_count.append(epoch)\n",
    "            #  creates a tensor that shares storage with tensor that does not require grad. \n",
    "            #  It detaches the output from the computational graph. So no gradient will be backpropagated along this variable\n",
    "            train_loss_values.append(loss.detach().numpy())\n",
    "            test_loss_values.append(test_loss.detach().numpy())\n",
    "            print(f\"Epoch: {epoch} | MAE Train Loss: {loss} | MAE Test Loss: {test_loss} \")"
   ]
  },
  {
   "cell_type": "code",
   "execution_count": 40,
   "id": "8d0bb176-ae94-41c7-a186-c3355eb3345c",
   "metadata": {},
   "outputs": [
    {
     "data": {
      "image/png": "[encoded data removed]",
      "text/plain": [
       "<Figure size 640x480 with 1 Axes>"
      ]
     },
     "metadata": {},
     "output_type": "display_data"
    }
   ],
   "source": [
    "import matplotlib.pyplot as plt\n",
    "# Plot the loss curves\n",
    "plt.plot(epoch_count, train_loss_values, label=\"Train loss\")\n",
    "plt.plot(epoch_count, test_loss_values, label=\"Test loss\")\n",
    "plt.title(\"Training and test loss curves\")\n",
    "plt.xlabel(\"Epochs\")\n",
    "plt.ylabel(\"Loss\")\n",
    "plt.legend();"
   ]
  },
  {
   "cell_type": "code",
   "execution_count": 41,
   "id": "7e383b6b-5223-476e-a525-d63b4166731b",
   "metadata": {},
   "outputs": [
    {
     "name": "stdout",
     "output_type": "stream",
     "text": [
      "The model learned the following values for weights and bias:\n",
      "OrderedDict({'weights': tensor([0.6977]), 'bias': tensor([0.3080])})\n",
      "\n",
      "And the original values for weights and bias are:\n",
      "weights: 0.7, bias: 0.3\n"
     ]
    }
   ],
   "source": [
    "print(\"The model learned the following values for weights and bias:\")\n",
    "print(model_0.state_dict())\n",
    "print(\"\\nAnd the original values for weights and bias are:\")\n",
    "print(f\"weights: {weight}, bias: {bias}\")"
   ]
  },
  {
   "cell_type": "markdown",
   "id": "2c6c4c58-4399-4baf-b96a-697dd1933e82",
   "metadata": {},
   "source": [
    "## 4. Making predictions with a trained PyTorch model (inference)\n",
    "#### There are three things to remember when making predictions (also called performing inference) with a PyTorch model:\n",
    "\n",
    "* Set the model in evaluation mode (model.eval()).\n",
    "* Make the predictions using the inference mode context manager (with torch.inference_mode(): ...).\n",
    "* All predictions should be made with objects on the same device (e.g. data and model on GPU only or data and model on CPU only)."
   ]
  },
  {
   "cell_type": "code",
   "execution_count": 42,
   "id": "a443c2d7-a02b-4092-aa30-7a1c846e9db1",
   "metadata": {},
   "outputs": [
    {
     "data": {
      "text/plain": [
       "tensor([[0.8661],\n",
       "        [0.8801],\n",
       "        [0.8940],\n",
       "        [0.9080],\n",
       "        [0.9220],\n",
       "        [0.9359],\n",
       "        [0.9499],\n",
       "        [0.9638],\n",
       "        [0.9778],\n",
       "        [0.9917]])"
      ]
     },
     "execution_count": 42,
     "metadata": {},
     "output_type": "execute_result"
    }
   ],
   "source": [
    "# Set the model in valuation mode\n",
    "model_0.eval()\n",
    "\n",
    "# Set up inference mode context manager\n",
    "with torch.inference_mode():\n",
    "  # 3. Make sure the calculations are done with the model and data on the same device\n",
    "  # in our case, we haven't setup device-agnostic code yet so our data and model are\n",
    "  # on the CPU by default.\n",
    "  # model_0.to(device)\n",
    "  # X_test = X_test.to(device)\n",
    "  y_preds = model_0(X_test)\n",
    "y_preds"
   ]
  },
  {
   "cell_type": "code",
   "execution_count": 43,
   "id": "02114ea4-9aa6-499e-86f5-b5d665b7594f",
   "metadata": {},
   "outputs": [
    {
     "data": {
      "image/png": "[encoded data removed]",
      "text/plain": [
       "<Figure size 1000x700 with 1 Axes>"
      ]
     },
     "metadata": {},
     "output_type": "display_data"
    }
   ],
   "source": [
    "plot_predictions(predictions=y_preds)"
   ]
  },
  {
   "cell_type": "markdown",
   "id": "1670ed9d-5878-4c79-b955-5a1588ebb635",
   "metadata": {},
   "source": [
    "# Saving and loading a Pytorch model\n",
    "* torch.save\tSaves a serialized object to disk using Python's pickle utility. Models, tensors and various other Python objects like dictionaries can be saved using torch.save.\n",
    "* torch.load\tUses pickle's unpickling features to deserialize and load pickled Python object files (like models, tensors or dictionaries) into memory. You can also set which device to load the object to (CPU, GPU etc).\n",
    "* torch.nn.Module.load_state_dict\tLoads a model's parameter dictionary (model.state_dict()) using a saved state_dict() object.\n",
    "* Note: As stated in Python's pickle documentation, the pickle module is not secure. That means you should only ever unpickle (load) data you trust. That goes for loading PyTorch models as well. Only ever use saved PyTorch models from sources you trust"
   ]
  },
  {
   "cell_type": "code",
   "execution_count": 44,
   "id": "453ffc9c-56df-4535-ad3c-346a3c5762ad",
   "metadata": {},
   "outputs": [
    {
     "name": "stdout",
     "output_type": "stream",
     "text": [
      "Saving model to: models\\01_pytorch_workflow_model_0.pth\n"
     ]
    }
   ],
   "source": [
    "from pathlib import Path\n",
    "\n",
    "# Create models repo\n",
    "MODEL_PATH = Path(\"models\")\n",
    "MODEL_PATH.mkdir(parents=True, exist_ok=True) # Create sub directories if need and don't show error if the repo exists \n",
    "\n",
    "MODEL_NAME = \"01_pytorch_workflow_model_0.pth\"\n",
    "MODEL_SAVE_PATH = MODEL_PATH / MODEL_NAME\n",
    "\n",
    "# 3. Save the model state dict \n",
    "print(f\"Saving model to: {MODEL_SAVE_PATH}\")\n",
    "torch.save(obj=model_0.state_dict(), \n",
    "          f=MODEL_SAVE_PATH)"
   ]
  },
  {
   "cell_type": "code",
   "execution_count": 51,
   "id": "62af1890-db58-40bc-a996-fb8ce2ec9fbe",
   "metadata": {},
   "outputs": [
    {
     "name": "stderr",
     "output_type": "stream",
     "text": [
      "'ls' is not recognized as an internal or external command,\n",
      "operable program or batch file.\n"
     ]
    }
   ],
   "source": [
    "# Check the saved file path\n",
    "!ls -l models/01_pytorch_workflow_model_0.pth"
   ]
  },
  {
   "cell_type": "markdown",
   "id": "1cb8d973-7caf-4bbd-acdd-38db77e13724",
   "metadata": {},
   "source": [
    "### Loading a saved PyTorch model's state_dict()"
   ]
  },
  {
   "cell_type": "code",
   "execution_count": 52,
   "id": "25d0edd3-1a75-4e9f-97fb-8548ef064404",
   "metadata": {},
   "outputs": [
    {
     "data": {
      "text/plain": [
       "<All keys matched successfully>"
      ]
     },
     "execution_count": 52,
     "metadata": {},
     "output_type": "execute_result"
    }
   ],
   "source": [
    "# Instantiate a new instance of our model (this will be instantiated with random weights)\n",
    "loaded_model_0 = LinearRegressionModel() \n",
    "\n",
    "# Load the state_dict of our saved model (this will update the new instance of our model with trained weights)\n",
    "loaded_model_0.load_state_dict(torch.load(f=MODEL_SAVE_PATH))"
   ]
  },
  {
   "cell_type": "code",
   "execution_count": 53,
   "id": "ab94c364-1bf4-4991-b859-475249d3e0ea",
   "metadata": {},
   "outputs": [],
   "source": [
    "loaded_model_0.eval()\n",
    "\n",
    "with torch.inference_mode():\n",
    "    loaded_model_0_preds = loaded_model_0(X_test)\n"
   ]
  },
  {
   "cell_type": "code",
   "execution_count": 55,
   "id": "d8b050dc-4962-4a8d-b46a-66748fec5b7a",
   "metadata": {},
   "outputs": [
    {
     "data": {
      "text/plain": [
       "tensor([[True],\n",
       "        [True],\n",
       "        [True],\n",
       "        [True],\n",
       "        [True],\n",
       "        [True],\n",
       "        [True],\n",
       "        [True],\n",
       "        [True],\n",
       "        [True]])"
      ]
     },
     "execution_count": 55,
     "metadata": {},
     "output_type": "execute_result"
    }
   ],
   "source": [
    "# Compare previous model predictions with loaded model predictions (these should be the same)\n",
    "y_preds == loaded_model_0_preds"
   ]
  },
  {
   "cell_type": "markdown",
   "id": "172b68d4-d3e9-4c99-83e3-0461b844a497",
   "metadata": {},
   "source": [
    "# 6. Putting all together\n"
   ]
  },
  {
   "cell_type": "code",
   "execution_count": 57,
   "id": "59667c7e-258f-4e07-9dea-3372658fec8d",
   "metadata": {},
   "outputs": [
    {
     "data": {
      "text/plain": [
       "'2.7.1+cu128'"
      ]
     },
     "execution_count": 57,
     "metadata": {},
     "output_type": "execute_result"
    }
   ],
   "source": [
    "import torch \n",
    "from torch import nn\n",
    "import matplotlib.pyplot as plt \n",
    "\n",
    "torch.__version__"
   ]
  },
  {
   "cell_type": "code",
   "execution_count": 58,
   "id": "5850bb9b-7c29-4e79-b4b9-fefbd0fdf70c",
   "metadata": {},
   "outputs": [
    {
     "name": "stdout",
     "output_type": "stream",
     "text": [
      "Using device: cuda\n"
     ]
    }
   ],
   "source": [
    "device = \"cuda\" if torch.cuda.is_available() else \"cpu\"\n",
    "print(f\"Using device: {device}\")"
   ]
  },
  {
   "cell_type": "code",
   "execution_count": 59,
   "id": "3eab8098-4888-48cc-b839-27d7bd695ab9",
   "metadata": {},
   "outputs": [
    {
     "data": {
      "text/plain": [
       "(tensor([[0.0000],\n",
       "         [0.0200],\n",
       "         [0.0400],\n",
       "         [0.0600],\n",
       "         [0.0800],\n",
       "         [0.1000],\n",
       "         [0.1200],\n",
       "         [0.1400],\n",
       "         [0.1600],\n",
       "         [0.1800]]),\n",
       " tensor([[0.3000],\n",
       "         [0.3140],\n",
       "         [0.3280],\n",
       "         [0.3420],\n",
       "         [0.3560],\n",
       "         [0.3700],\n",
       "         [0.3840],\n",
       "         [0.3980],\n",
       "         [0.4120],\n",
       "         [0.4260]]))"
      ]
     },
     "execution_count": 59,
     "metadata": {},
     "output_type": "execute_result"
    }
   ],
   "source": [
    "# Create weight and bias\n",
    "weight = 0.7\n",
    "bias = 0.3\n",
    "\n",
    "# Create range values\n",
    "start = 0\n",
    "end = 1\n",
    "step = 0.02\n",
    "\n",
    "# Create X and y (features and labels)\n",
    "X = torch.arange(start, end, step).unsqueeze(dim=1)\n",
    "y = weight * X + bias \n",
    "X[:10], y[:10]"
   ]
  },
  {
   "cell_type": "code",
   "execution_count": 61,
   "id": "effd8fa7-322c-489a-9fc7-989ace81b110",
   "metadata": {},
   "outputs": [
    {
     "data": {
      "text/plain": [
       "(40, 40, 10, 10)"
      ]
     },
     "execution_count": 61,
     "metadata": {},
     "output_type": "execute_result"
    }
   ],
   "source": [
    "# Split data\n",
    "train_split = int(len(X) * 0.8)\n",
    "X_train, y_train = X[:train_split], y[:train_split]\n",
    "X_test, y_test = X[train_split:], y[train_split:]\n",
    "\n",
    "len(X_train), len(y_train), len(X_test), len(y_test)"
   ]
  },
  {
   "cell_type": "code",
   "execution_count": 62,
   "id": "e6660a3d-72b0-4ac0-912e-730768f61ebb",
   "metadata": {},
   "outputs": [
    {
     "data": {
      "image/png": "[encoded data removed]",
      "text/plain": [
       "<Figure size 1000x700 with 1 Axes>"
      ]
     },
     "metadata": {},
     "output_type": "display_data"
    }
   ],
   "source": [
    "plot_predictions(X_train, y_train, X_test, y_test)"
   ]
  },
  {
   "cell_type": "markdown",
   "id": "bdb7658c-3752-43fe-89d9-3edee496ff7c",
   "metadata": {},
   "source": [
    "### 6.2 Building a PyTorch linear model\n",
    "* We'll create the same style of model as before except this time, instead of defining the weight and bias parameters of our model manually using nn.Parameter(), we'll use nn.Linear(in_features, out_features) to do it for us\n",
    "* Where in_features is the number of dimensions your input data has and out_features is the number of dimensions you'd like it to be output to.\n",
    "* In our case, both of these are 1 since our data has 1 input feature (X) per label (y)"
   ]
  },
  {
   "cell_type": "code",
   "execution_count": 63,
   "id": "bbb5f2de-a79b-4f5d-a620-737a474ecefa",
   "metadata": {},
   "outputs": [
    {
     "data": {
      "text/plain": [
       "(LinearRegressionModelV2(\n",
       "   (linear_layer): Linear(in_features=1, out_features=1, bias=True)\n",
       " ),\n",
       " OrderedDict([('linear_layer.weight', tensor([[0.7645]])),\n",
       "              ('linear_layer.bias', tensor([0.8300]))]))"
      ]
     },
     "execution_count": 63,
     "metadata": {},
     "output_type": "execute_result"
    }
   ],
   "source": [
    "class LinearRegressionModelV2(nn.Module):\n",
    "    def __init__(self):\n",
    "        super().__init__()\n",
    "        # Use nn.Linear() for creating the model parameters\n",
    "        self.linear_layer = nn.Linear(in_features=1,\n",
    "                                     out_features=1)\n",
    "    # Define the forward computation (input data x flows through nn.Linear())\n",
    "    def forward(self, x: torch.Tensor) -> torch.Tensor:\n",
    "        return self.linear_layer(x)\n",
    "\n",
    "torch.manual_seed(42)\n",
    "model_1 = LinearRegressionModelV2()\n",
    "model_1, model_1.state_dict()"
   ]
  },
  {
   "cell_type": "code",
   "execution_count": 71,
   "id": "099dd92c-6eef-4b03-8f42-aa052fd2a00e",
   "metadata": {},
   "outputs": [
    {
     "data": {
      "text/plain": [
       "device(type='cpu')"
      ]
     },
     "execution_count": 71,
     "metadata": {},
     "output_type": "execute_result"
    }
   ],
   "source": [
    "# Check model device\n",
    "next(model_1.parameters()).device"
   ]
  },
  {
   "cell_type": "code",
   "execution_count": 73,
   "id": "ff8f77ee-f05a-4d9a-8b81-1d776f60e0a0",
   "metadata": {},
   "outputs": [
    {
     "data": {
      "text/plain": [
       "device(type='cuda', index=0)"
      ]
     },
     "execution_count": 73,
     "metadata": {},
     "output_type": "execute_result"
    }
   ],
   "source": [
    "# Set model to GPU if it's available, otherwise it'll default to CPU\n",
    "model_1.to(device)\n",
    "next(model_1.parameters()).device"
   ]
  },
  {
   "cell_type": "markdown",
   "id": "1a721d82-bbed-49ad-b467-d67c88b9b955",
   "metadata": {},
   "source": [
    "### Training"
   ]
  },
  {
   "cell_type": "code",
   "execution_count": 74,
   "id": "ba2e9530-1f75-4c69-a80f-a881d9ccf533",
   "metadata": {},
   "outputs": [],
   "source": [
    "# Create loss fucntion MAE\n",
    "loss_fn = nn.L1Loss()\n",
    "\n",
    "# Create optimizer \n",
    "optimizer = torch.optim.SGD(params=model_1.parameters(),\n",
    "                           lr=0.01)"
   ]
  },
  {
   "cell_type": "code",
   "execution_count": 80,
   "id": "db03c309-8b99-4007-bd9e-6d62c490a171",
   "metadata": {},
   "outputs": [
    {
     "name": "stdout",
     "output_type": "stream",
     "text": [
      "Epoch: 0 | Train loss: 0.5436570048332214 | Test loss: 0.560505211353302\n",
      "Epoch: 100 | Train loss: 0.005878167692571878 | Test loss: 0.012984705157577991\n",
      "Epoch: 200 | Train loss: 0.010256479494273663 | Test loss: 0.00033081771107390523\n",
      "Epoch: 300 | Train loss: 0.010256479494273663 | Test loss: 0.00033081771107390523\n",
      "Epoch: 400 | Train loss: 0.010256479494273663 | Test loss: 0.00033081771107390523\n",
      "Epoch: 500 | Train loss: 0.010256479494273663 | Test loss: 0.00033081771107390523\n",
      "Epoch: 600 | Train loss: 0.010256479494273663 | Test loss: 0.00033081771107390523\n",
      "Epoch: 700 | Train loss: 0.010256479494273663 | Test loss: 0.00033081771107390523\n",
      "Epoch: 800 | Train loss: 0.010256479494273663 | Test loss: 0.00033081771107390523\n",
      "Epoch: 900 | Train loss: 0.010256479494273663 | Test loss: 0.00033081771107390523\n"
     ]
    }
   ],
   "source": [
    "torch.manual_seed(42)\n",
    "\n",
    "# set number of epochs \n",
    "epochs = 1000\n",
    "# Put data on the available device\n",
    "# Without this, error will happen (not all model/data on device)\n",
    "X_train = X_train.to(device)\n",
    "y_train = y_train.to(device)\n",
    "X_test = X_test.to(device)\n",
    "y_test = y_test.to(device)\n",
    "\n",
    "for epoch in range(epochs):\n",
    "    ### Training \n",
    "    model_1.train() # train mode is on by default after construction\n",
    "\n",
    "    # Forward part \n",
    "    y_pred = model_1(X_train)\n",
    "\n",
    "    # Cal loss\n",
    "    loss = loss_fn(y_pred, y_train)\n",
    "\n",
    "    # Zero grad optimizer (avoid affect from the prev epoch)\n",
    "    optimizer.zero_grad()\n",
    "\n",
    "    # propagation \n",
    "    loss.backward()\n",
    "\n",
    "    # update params \n",
    "    optimizer.step()\n",
    "\n",
    "    ### Testing \n",
    "    model_1.eval()\n",
    "    with torch.inference_mode():\n",
    "        test_pred = model_1(X_test)\n",
    "\n",
    "        # Cal loss\n",
    "        test_loss = loss_fn(test_pred, y_test)\n",
    "\n",
    "    if epoch % 100 == 0:\n",
    "        print(f\"Epoch: {epoch} | Train loss: {loss} | Test loss: {test_loss}\")"
   ]
  },
  {
   "cell_type": "code",
   "execution_count": 85,
   "id": "6a8605c2-4767-4fae-84f7-f6fcd8aab953",
   "metadata": {},
   "outputs": [
    {
     "name": "stdout",
     "output_type": "stream",
     "text": [
      "The model learned the following values for weights and bias:\n",
      "OrderedDict([('linear_layer.weight', tensor([[0.6929]], device='cuda:0')),\n",
      "             ('linear_layer.bias', tensor([0.2925], device='cuda:0'))])\n",
      "\n",
      "And the original values for weights and bias are:\n",
      "weights: 0.7, bias: 0.3\n"
     ]
    }
   ],
   "source": [
    "from pprint import pprint \n",
    "print(\"The model learned the following values for weights and bias:\")\n",
    "pprint(model_1.state_dict())\n",
    "print(\"\\nAnd the original values for weights and bias are:\")\n",
    "print(f\"weights: {weight}, bias: {bias}\")"
   ]
  },
  {
   "cell_type": "code",
   "execution_count": null,
   "id": "4b45baf3-16d6-4e96-ab11-c7825be91818",
   "metadata": {},
   "outputs": [],
   "source": []
  }
 ],
 "metadata": {
  "kernelspec": {
   "display_name": "Python 3 (ipykernel)",
   "language": "python",
   "name": "python3"
  },
  "language_info": {
   "codemirror_mode": {
    "name": "ipython",
    "version": 3
   },
   "file_extension": ".py",
   "mimetype": "text/x-python",
   "name": "python",
   "nbconvert_exporter": "python",
   "pygments_lexer": "ipython3",
   "version": "3.12.9"
  }
 },
 "nbformat": 4,
 "nbformat_minor": 5
}
