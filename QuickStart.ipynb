{
 "cells": [
  {
   "cell_type": "markdown",
   "id": "5f1e7212-f963-4695-b720-b2ba7e8ede67",
   "metadata": {},
   "source": [
    "# Working with data\n",
    "* PyTorch has two primitives to work with data: torch.utils.data.DataLoader and torch.utils.data.Dataset.\n",
    "* Dataset stores the samples and their corresponding labels, and DataLoader wraps an iterable around the Dataset."
   ]
  },
  {
   "cell_type": "code",
   "execution_count": 3,
   "id": "586db102-0277-4646-9fa9-ebdedc64813a",
   "metadata": {},
   "outputs": [],
   "source": [
    "import torch \n",
    "from torch import nn \n",
    "from torch.utils.data import DataLoader\n",
    "from torchvision import datasets\n",
    "from torchvision.transforms import ToTensor"
   ]
  },
  {
   "cell_type": "code",
   "execution_count": 6,
   "id": "704e3d86-e425-4cd3-8f52-bda03067539b",
   "metadata": {},
   "outputs": [
    {
     "name": "stderr",
     "output_type": "stream",
     "text": [
      "100.0%\n",
      "100.0%\n",
      "100.0%\n",
      "100.0%\n"
     ]
    }
   ],
   "source": [
    "# Download training data from open datasets\n",
    "training_data = datasets.FashionMNIST(\n",
    "    root=\"data\",\n",
    "    train=True,\n",
    "    download=True,\n",
    "    transform=ToTensor()\n",
    ")\n",
    "\n",
    "test_data = datasets.FashionMNIST(\n",
    "    root=\"data\",\n",
    "    train=False,\n",
    "    download=True,\n",
    "    transform=ToTensor()\n",
    ")"
   ]
  },
  {
   "cell_type": "markdown",
   "id": "6e919ad6-8d0e-42d0-bc4a-85b44cf4bc29",
   "metadata": {},
   "source": [
    "* We pass the Dataset as an argument to DataLoader. \n",
    "* This wraps an iterable over our dataset, and supports automatic batching, sampling, shuffling and multiprocess data loading.\n",
    "* Here we define a batch size of 64, i.e. each element in the dataloader iterable will return a batch of 64 features and labels."
   ]
  },
  {
   "cell_type": "code",
   "execution_count": 7,
   "id": "fd71f7a5-b23d-4941-a7b1-b9617d631ca4",
   "metadata": {},
   "outputs": [
    {
     "name": "stdout",
     "output_type": "stream",
     "text": [
      "Shape of X [N, C, H, W]: torch.Size([64, 1, 28, 28])\n",
      "Shape of y: torch.Size([64]) torch.int64\n"
     ]
    }
   ],
   "source": [
    "batch_size = 64 \n",
    "# Create data loaders\n",
    "train_dataloader = DataLoader(training_data, batch_size=batch_size)\n",
    "test_dataloader = DataLoader(test_data, batch_size=batch_size)\n",
    "for X, y in test_dataloader:\n",
    "    print(f\"Shape of X [N, C, H, W]: {X.shape}\")\n",
    "    print(f\"Shape of y: {y.shape} {y.dtype}\")\n",
    "    break"
   ]
  },
  {
   "cell_type": "markdown",
   "id": "b0fdde55-fb87-4a2b-ade6-15bcb06eb89a",
   "metadata": {},
   "source": [
    "# Creating Models\n",
    "* To define a neural network in PyTorch, we create a class that inherits from nn.Module. We define the layers of the network in the __init__ function and specify how data will pass through the network in the forward function\n",
    "* To accelerate operations in the neural network, we move it to the accelerator such as CUDA, MPS, MTIA, or XPU. If the current accelerator is available, we will use it. Otherwise, we use the CPU."
   ]
  },
  {
   "cell_type": "code",
   "execution_count": 10,
   "id": "084ae70f-011e-4cf5-a960-7d6c67a80111",
   "metadata": {},
   "outputs": [
    {
     "name": "stdout",
     "output_type": "stream",
     "text": [
      "Using cuda device\n",
      "NeuralNetwork(\n",
      "  (flatten): Flatten(start_dim=1, end_dim=-1)\n",
      "  (linear_relu_stack): Sequential(\n",
      "    (0): Linear(in_features=784, out_features=512, bias=True)\n",
      "    (1): ReLU()\n",
      "    (2): Linear(in_features=512, out_features=512, bias=True)\n",
      "    (3): ReLU()\n",
      "    (4): Linear(in_features=512, out_features=10, bias=True)\n",
      "  )\n",
      ")\n"
     ]
    }
   ],
   "source": [
    "device = torch.accelerator.current_accelerator().type if torch.accelerator.is_available() else \"cpu\"\n",
    "print(f\"Using {device} device\")\n",
    "\n",
    "# Define model\n",
    "class NeuralNetwork(nn.Module):\n",
    "    def __init__(self):\n",
    "        super().__init__()\n",
    "        self.flatten = nn.Flatten()\n",
    "        self.linear_relu_stack = nn.Sequential(\n",
    "            nn.Linear(28*28, 512),\n",
    "            nn.ReLU(),\n",
    "            nn.Linear(512, 512),\n",
    "            nn.ReLU(),\n",
    "            nn.Linear(512, 10),\n",
    "        )\n",
    "    def forward(self, x):\n",
    "        x = self.flatten(x)\n",
    "        logits = self.linear_relu_stack(x)\n",
    "        return logits\n",
    "model = NeuralNetwork().to(device)\n",
    "print(model)"
   ]
  },
  {
   "cell_type": "markdown",
   "id": "15634903-6822-43db-86d3-fdf2dab865a1",
   "metadata": {},
   "source": [
    "# Optimizing the Model Parameters"
   ]
  },
  {
   "cell_type": "code",
   "execution_count": 12,
   "id": "702e2e9a-35a3-4348-8a40-b61662bcd5ac",
   "metadata": {},
   "outputs": [],
   "source": [
    "loss_fn = nn.CrossEntropyLoss()\n",
    "optimizer = torch.optim.SGD(model.parameters(), lr=1e-3)"
   ]
  },
  {
   "cell_type": "code",
   "execution_count": 13,
   "id": "1eec1575-6820-4a8f-9d04-c718bd6920eb",
   "metadata": {},
   "outputs": [],
   "source": [
    "def train(dataloader, model, loss_fn, optimizer):\n",
    "    size = len(dataloader.dataset)\n",
    "    model.train()\n",
    "    for batch, (X, y) in enumerate(dataloader):\n",
    "        X, y = X.to(device), y.to(device)\n",
    "\n",
    "        # Compute prediction error\n",
    "        pred = model(X)\n",
    "        loss = loss_fn(pred, y)\n",
    "\n",
    "        # Backpropagation\n",
    "        loss.backward()\n",
    "        optimizer.step()\n",
    "        optimizer.zero_grad() # if we don't reset gradients, it will be sum up to the other batches\n",
    "\n",
    "        if batch % 100 == 0:\n",
    "            loss, current = loss.item(), (batch + 1) * len(X)\n",
    "            print(f\"loss: {loss:>7f}  [{current:>5d}/{size:>5d}]\")"
   ]
  },
  {
   "cell_type": "code",
   "execution_count": 14,
   "id": "1f83e69b-efa8-42d4-a059-789e2591ab2a",
   "metadata": {},
   "outputs": [],
   "source": [
    "def test(dataloader, model, loss_fn):\n",
    "    size = len(dataloader.dataset)\n",
    "    num_batches = len(dataloader)\n",
    "    model.eval()\n",
    "    test_loss, correct = 0, 0\n",
    "    with torch.no_grad():\n",
    "        for X, y in dataloader:\n",
    "            X, y = X.to(device), y.to(device)\n",
    "            pred = model(X)\n",
    "            test_loss += loss_fn(pred, y).item()\n",
    "            correct += (pred.argmax(1) == y).type(torch.float).sum().item() # argmax(1) find the most prob in samples(row)\n",
    "    test_loss /= num_batches\n",
    "    correct /= size\n",
    "    print(f\"Test Error: \\n Accuracy: {(100*correct):>0.1f}%, Avg loss: {test_loss:>8f} \\n\")"
   ]
  },
  {
   "cell_type": "code",
   "execution_count": 15,
   "id": "7fbd5f64-66f4-43a9-b464-c0a94a022b61",
   "metadata": {},
   "outputs": [
    {
     "name": "stdout",
     "output_type": "stream",
     "text": [
      "Epoch 1\n",
      "-------------------------------\n",
      "loss: 2.280331  [   64/60000]\n",
      "loss: 2.278466  [ 6464/60000]\n",
      "loss: 2.249203  [12864/60000]\n",
      "loss: 2.252773  [19264/60000]\n",
      "loss: 2.243618  [25664/60000]\n",
      "loss: 2.199745  [32064/60000]\n",
      "loss: 2.215639  [38464/60000]\n",
      "loss: 2.169378  [44864/60000]\n",
      "loss: 2.160173  [51264/60000]\n",
      "loss: 2.137871  [57664/60000]\n",
      "Test Error: \n",
      " Accuracy: 41.9%, Avg loss: 2.128030 \n",
      "\n",
      "Epoch 2\n",
      "-------------------------------\n",
      "loss: 2.130300  [   64/60000]\n",
      "loss: 2.125590  [ 6464/60000]\n",
      "loss: 2.058294  [12864/60000]\n",
      "loss: 2.078682  [19264/60000]\n",
      "loss: 2.034800  [25664/60000]\n",
      "loss: 1.964374  [32064/60000]\n",
      "loss: 1.999596  [38464/60000]\n",
      "loss: 1.910466  [44864/60000]\n",
      "loss: 1.902923  [51264/60000]\n",
      "loss: 1.839734  [57664/60000]\n",
      "Test Error: \n",
      " Accuracy: 56.3%, Avg loss: 1.838361 \n",
      "\n",
      "Epoch 3\n",
      "-------------------------------\n",
      "loss: 1.865883  [   64/60000]\n",
      "loss: 1.836277  [ 6464/60000]\n",
      "loss: 1.713645  [12864/60000]\n",
      "loss: 1.757493  [19264/60000]\n",
      "loss: 1.654161  [25664/60000]\n",
      "loss: 1.613753  [32064/60000]\n",
      "loss: 1.634020  [38464/60000]\n",
      "loss: 1.539716  [44864/60000]\n",
      "loss: 1.552671  [51264/60000]\n",
      "loss: 1.455468  [57664/60000]\n",
      "Test Error: \n",
      " Accuracy: 63.5%, Avg loss: 1.477339 \n",
      "\n",
      "Epoch 4\n",
      "-------------------------------\n",
      "loss: 1.542249  [   64/60000]\n",
      "loss: 1.507690  [ 6464/60000]\n",
      "loss: 1.360091  [12864/60000]\n",
      "loss: 1.429453  [19264/60000]\n",
      "loss: 1.321645  [25664/60000]\n",
      "loss: 1.329791  [32064/60000]\n",
      "loss: 1.337331  [38464/60000]\n",
      "loss: 1.269959  [44864/60000]\n",
      "loss: 1.295374  [51264/60000]\n",
      "loss: 1.201632  [57664/60000]\n",
      "Test Error: \n",
      " Accuracy: 64.1%, Avg loss: 1.229497 \n",
      "\n",
      "Epoch 5\n",
      "-------------------------------\n",
      "loss: 1.307218  [   64/60000]\n",
      "loss: 1.287192  [ 6464/60000]\n",
      "loss: 1.123582  [12864/60000]\n",
      "loss: 1.224180  [19264/60000]\n",
      "loss: 1.110472  [25664/60000]\n",
      "loss: 1.144191  [32064/60000]\n",
      "loss: 1.159303  [38464/60000]\n",
      "loss: 1.102103  [44864/60000]\n",
      "loss: 1.132614  [51264/60000]\n",
      "loss: 1.053320  [57664/60000]\n",
      "Test Error: \n",
      " Accuracy: 65.2%, Avg loss: 1.075217 \n",
      "\n",
      "Done!\n"
     ]
    }
   ],
   "source": [
    "epochs = 5\n",
    "for t in range(epochs):\n",
    "    print(f\"Epoch {t+1}\\n-------------------------------\")\n",
    "    train(train_dataloader, model, loss_fn, optimizer)\n",
    "    test(test_dataloader, model, loss_fn)\n",
    "print(\"Done!\")"
   ]
  },
  {
   "cell_type": "code",
   "execution_count": null,
   "id": "55c15775-5827-4da9-94e6-7ad4115396cb",
   "metadata": {},
   "outputs": [],
   "source": []
  }
 ],
 "metadata": {
  "kernelspec": {
   "display_name": "Python 3 (ipykernel)",
   "language": "python",
   "name": "python3"
  },
  "language_info": {
   "codemirror_mode": {
    "name": "ipython",
    "version": 3
   },
   "file_extension": ".py",
   "mimetype": "text/x-python",
   "name": "python",
   "nbconvert_exporter": "python",
   "pygments_lexer": "ipython3",
   "version": "3.13.3"
  }
 },
 "nbformat": 4,
 "nbformat_minor": 5
}
