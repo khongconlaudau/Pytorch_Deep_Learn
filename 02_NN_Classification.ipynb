{
 "cells": [
  {
   "cell_type": "code",
   "execution_count": 3,
   "id": "8c513826-397e-4956-bd28-6ac786f2b2ea",
   "metadata": {},
   "outputs": [
    {
     "ename": "ModuleNotFoundError",
     "evalue": "No module named 'sklearn'",
     "output_type": "error",
     "traceback": [
      "\u001b[31m---------------------------------------------------------------------------\u001b[39m",
      "\u001b[31mModuleNotFoundError\u001b[39m                       Traceback (most recent call last)",
      "\u001b[36mCell\u001b[39m\u001b[36m \u001b[39m\u001b[32mIn[3]\u001b[39m\u001b[32m, line 1\u001b[39m\n\u001b[32m----> \u001b[39m\u001b[32m1\u001b[39m \u001b[38;5;28;01mfrom\u001b[39;00m\u001b[38;5;250m \u001b[39m\u001b[34;01msklearn\u001b[39;00m\u001b[34;01m.\u001b[39;00m\u001b[34;01mdatasets\u001b[39;00m\u001b[38;5;250m \u001b[39m\u001b[38;5;28;01mimport\u001b[39;00m make_circles\n",
      "\u001b[31mModuleNotFoundError\u001b[39m: No module named 'sklearn'"
     ]
    }
   ],
   "source": [
    "from sklearn.datasets import make_circles\n"
   ]
  },
  {
   "cell_type": "code",
   "execution_count": null,
   "id": "2cfdb514-f04c-4746-b7f4-e0f01ed43fbd",
   "metadata": {},
   "outputs": [],
   "source": [
    "n_samples = 1000 \n",
    "X, y = make_circles(n_samples, \n",
    "                   noise=0.03, \n",
    "                   random_state=42)"
   ]
  },
  {
   "cell_type": "code",
   "execution_count": null,
   "id": "9e06c2c7-852e-4f22-b984-cdfff5332d3e",
   "metadata": {},
   "outputs": [],
   "source": [
    "import pandas as pd "
   ]
  },
  {
   "cell_type": "code",
   "execution_count": null,
   "id": "e396b1c5-c9a4-4fc4-9cfd-d12b19d577f4",
   "metadata": {},
   "outputs": [],
   "source": [
    "circles = pd.DataFrame({\"X1\": X[:,0],\n",
    "                    \"X2\": X[:,1],\n",
    "                    \"Label\": y  } )\n",
    "circles.head(10)"
   ]
  },
  {
   "cell_type": "code",
   "execution_count": null,
   "id": "356e3f18-8536-4bd0-80af-a52ec2dbd150",
   "metadata": {},
   "outputs": [],
   "source": [
    "circles.Label.value_counts()"
   ]
  },
  {
   "cell_type": "code",
   "execution_count": null,
   "id": "644c8423-10d6-4e9e-89a0-30f45ef45b8b",
   "metadata": {},
   "outputs": [],
   "source": [
    "# Visualize with plot\n",
    "import matplotlib.pyplot as plt \n",
    "\n",
    "plt.scatter(x=X[:,0], y=X[:,1],\n",
    "            c=y,\n",
    "           cmap=plt.cm.RdYlBu) # red , yellow blue\n",
    "\"\"\"\n",
    "# For binary classification (y = [0, 1]):\n",
    "y = 0  →  Red color\n",
    "y = 1  →  Blue color\n",
    "\n",
    "# For 3-class classification (y = [0, 1, 2]):\n",
    "y = 0  →  Red color\n",
    "y = 1  →  Yellow color  \n",
    "y = 2  →  Blue color\n",
    "\"\"\""
   ]
  },
  {
   "cell_type": "markdown",
   "id": "db8737aa-6db8-4ca6-a2d4-ef78dc8c9ef5",
   "metadata": {},
   "source": [
    "## 1.1 Input and Output shape"
   ]
  },
  {
   "cell_type": "code",
   "execution_count": null,
   "id": "f5d3706f-484c-437b-b1b3-ec712e57421c",
   "metadata": {},
   "outputs": [],
   "source": [
    "X.shape, y.shape"
   ]
  },
  {
   "cell_type": "code",
   "execution_count": null,
   "id": "7e694fa5-f8f4-4d7f-b17d-248f2c1ee4dc",
   "metadata": {},
   "outputs": [],
   "source": [
    "# View the first example of features and labels\n",
    "X_sample = X[0]\n",
    "y_sample = y[0]\n",
    "print(f\"Values for one sample of X: {X_sample} and the same for y: {y_sample}\")\n",
    "print(f\"Shapes for one sample of X: {X_sample.shape} and the same for y: {y_sample.shape}\")"
   ]
  },
  {
   "cell_type": "markdown",
   "id": "647e103e-3968-49e4-b5a4-04b3808e4460",
   "metadata": {},
   "source": [
    "## 1.2 Turn data into tensors and create train and test splits"
   ]
  },
  {
   "cell_type": "code",
   "execution_count": null,
   "id": "40575474-0287-4ae0-bc71-70603580d91f",
   "metadata": {},
   "outputs": [],
   "source": [
    "import torch \n",
    "X = torch.from_numpy(X).type(torch.float)\n",
    "y = torch.from_numpy(y).type(torch.float)\n",
    "\n",
    "# View the first five samples\n",
    "X[:5], y[:5]"
   ]
  },
  {
   "cell_type": "code",
   "execution_count": null,
   "id": "73f71394-899f-42c3-8098-4c31a29269d0",
   "metadata": {},
   "outputs": [],
   "source": [
    "# Split data into train and test sets\n",
    "from sklearn.model_selection import train_test_split "
   ]
  },
  {
   "cell_type": "code",
   "execution_count": null,
   "id": "38d7c0b5-d8f6-4231-bfaf-d29c914f9bf0",
   "metadata": {},
   "outputs": [],
   "source": [
    "X_train, X_test, y_train, y_test = train_test_split(X, y, \n",
    "                                                   test_size=0.2,\n",
    "                                                   random_state=42)\n",
    "len(X_train), len(X_test), len(y_train), len(y_test)"
   ]
  },
  {
   "cell_type": "markdown",
   "id": "b942385b-12b8-4808-9a37-80a25600c3df",
   "metadata": {},
   "source": [
    "## 2.Building a model"
   ]
  },
  {
   "cell_type": "code",
   "execution_count": null,
   "id": "148fb2a7-b423-4c82-9c7f-4fa7c1f8d002",
   "metadata": {},
   "outputs": [],
   "source": [
    "import torch \n",
    "from torch import nn \n",
    "\n",
    "device = \"cuda\" if torch.cuda.is_available() else \"cpu\"\n",
    "device"
   ]
  },
  {
   "cell_type": "code",
   "execution_count": null,
   "id": "0f31f02d-d204-4929-92f5-2374811c43d8",
   "metadata": {},
   "outputs": [],
   "source": [
    "# 1. Construct a model class that subclasses nn.Module\n",
    "class CircleModelV0(nn.Module):\n",
    "    def __init__(self):\n",
    "        super().__init__()\n",
    "        # 2. Create 2 nn.Linear layers capable of handling X and y input and output shapes\n",
    "        self.layer1 = nn.Linear(in_features=2, out_features=5)\n",
    "        self.layer2 = nn.Linear(in_features=5, out_features=1)\n",
    "    def forward(self, x):\n",
    "        return self.layer2(self.layer1(x))\n",
    "\n",
    "model_0 = CircleModelV0().to(device)\n",
    "model_0"
   ]
  },
  {
   "cell_type": "code",
   "execution_count": null,
   "id": "80eea5ae-5a8b-43f8-a2ce-3612ffa5ff67",
   "metadata": {},
   "outputs": [],
   "source": [
    "# You can also do the same as above using nn.Sequential.\n",
    "model_0 = nn.Sequential(\n",
    "    nn.Linear(in_features=2, out_features=5),\n",
    "    nn.Linear(in_features=5, out_features=1)\n",
    ").to(device)\n",
    "\n",
    "model_0"
   ]
  },
  {
   "cell_type": "markdown",
   "id": "553ce596-5075-43fb-9415-48c0c9f5437f",
   "metadata": {},
   "source": [
    "## why not just always use nn.Sequential?\n",
    "- nn.Sequential is fantastic for straight-forward computations, however, as the namespace says, it always runs in sequential order.\n",
    "- So if you'd like something else to happen (rather than just straight-forward sequential computation) you'll want to define your own custom nn.Module subclass"
   ]
  },
  {
   "cell_type": "code",
   "execution_count": null,
   "id": "ded96578-b556-4222-aa9d-e67f5b9d6ca4",
   "metadata": {},
   "outputs": [],
   "source": [
    "untrained_preds = model_0(X_test.to(device))\n",
    "print(f\"Length of predictions: {len(untrained_preds)}, Shape: {untrained_preds.shape}\")\n",
    "print(f\"Length of test samples: {len(y_test)}, Shape: {y_test.shape}\")\n",
    "print(f\"\\nFirst 10 predictions:\\n{untrained_preds[:10]}\")\n",
    "print(f\"\\nFirst 10 test labels:\\n{y_test[:10]}\")"
   ]
  },
  {
   "cell_type": "markdown",
   "id": "d8b20600-8c75-401b-8470-e589054aaef8",
   "metadata": {},
   "source": [
    "### PyTorch has two binary cross entropy implementations:\n",
    "\n",
    "- torch.nn.BCELoss() - Creates a loss function that measures the binary cross entropy between the target (label) and input (features).\n",
    "- torch.nn.BCEWithLogitsLoss() - This is the same as above except it has a sigmoid layer (nn.Sigmoid) built-in (we'll see what this means soon)."
   ]
  },
  {
   "cell_type": "code",
   "execution_count": null,
   "id": "16d9e491-2c6e-4e8c-8d99-44a55308866e",
   "metadata": {},
   "outputs": [],
   "source": [
    "# Create a loss function \n",
    "loss_fn = nn.BCEWithLogitsLoss()\n",
    "\n",
    "# Create an optimizer \n",
    "optimizer = torch.optim.SGD(params = model_0.parameters(),\n",
    "                           lr=0.1)"
   ]
  },
  {
   "cell_type": "code",
   "execution_count": null,
   "id": "eb385433-1cd1-442c-80d1-f6d122fa3571",
   "metadata": {},
   "outputs": [],
   "source": [
    "# Calculate accuracy (a classification metric)\n",
    "def accuracy_fn(y_true, y_pred):\n",
    "    correct = torch.eq(y_true, y_pred).sum().item() # torch.eq() calculates where two tensors are equal\n",
    "    acc = (correct / len(y_pred)) * 100\n",
    "    return acc\n"
   ]
  },
  {
   "cell_type": "markdown",
   "id": "f3317887-fb02-49e9-99a7-8309002a2e14",
   "metadata": {},
   "source": [
    "## 3. Train Model "
   ]
  },
  {
   "cell_type": "markdown",
   "id": "9a468fcb-3066-4e3b-b6d9-b042a515bba9",
   "metadata": {},
   "source": [
    "### 3.1 Going from raw model outputs to predicted labels (logits -> prediction probabilities -> prediction labels)"
   ]
  },
  {
   "cell_type": "code",
   "execution_count": null,
   "id": "d5fee210-1f3c-44b3-9862-3caa5372ea5b",
   "metadata": {},
   "outputs": [],
   "source": [
    "y_logits = model_0(X_test.to(device))[:5] # the raw outputs of our model are often referred to as logits.\n",
    "y_logits "
   ]
  },
  {
   "cell_type": "code",
   "execution_count": null,
   "id": "d94bc2eb-52bf-4be6-8a8b-4d871292729c",
   "metadata": {},
   "outputs": [],
   "source": [
    "# Use sigmoid on model logits\n",
    "y_pred_probs = torch.sigmoid(y_logits)\n",
    "y_pred_probs"
   ]
  },
  {
   "cell_type": "code",
   "execution_count": null,
   "id": "3423ad52-59d5-49fc-a33e-e59b6ff9e1d9",
   "metadata": {},
   "outputs": [],
   "source": [
    "# Find the predicted labels (round the prediction probabilities)\n",
    "y_preds = torch.round(y_pred_probs)\n",
    "\n",
    "# Get rid of extra dimension\n",
    "y_preds.squeeze()"
   ]
  },
  {
   "cell_type": "code",
   "execution_count": null,
   "id": "74340ca6-fa0d-469a-99ad-a8b82bedaba4",
   "metadata": {},
   "outputs": [],
   "source": [
    "y_test[:5]"
   ]
  },
  {
   "cell_type": "markdown",
   "id": "9d22dacc-309b-42f4-93f9-01b6e676d9b5",
   "metadata": {},
   "source": [
    "### 3.2 Building a training and testing loop"
   ]
  },
  {
   "cell_type": "code",
   "execution_count": null,
   "id": "63509c1a-8500-485d-a1cf-505ecb66833f",
   "metadata": {},
   "outputs": [],
   "source": [
    "torch.manual_seed(42)\n",
    "\n",
    "# set the n of epochs \n",
    "epochs = 100 \n",
    "\n",
    "# Put data to target device \n",
    "X_train, y_train = X_train.to(device), y_train.to(device)\n",
    "X_test, y_test = X_test.to(device), y_test.to(device)\n",
    "\n",
    "# Build training and evaluation loop\n",
    "for epoch in range(epochs):\n",
    "    ### Training \n",
    "    model_0.train()\n",
    "\n",
    "    # 1. Forward pass (model outputs raw logits)\n",
    "    y_logits = model_0(X_train).squeeze() # The raw, unnormalized outputs of the model, usually the direct output of the last linear (fully connected) layer.\n",
    "    y_pred = torch.round(torch.sigmoid(y_logits)) # The final predictions of the model, which can mean: Probabilities (after applying softmax or sigmoid), etc\n",
    "\n",
    "    # 2. Calculate loss/accuracy\n",
    "    # loss = loss_fn(torch.sigmoid(y_logits), # Using nn.BCELoss you need torch.sigmoid()\n",
    "    #                y_train) \n",
    "    loss = loss_fn(y_logits, # Using nn.BCEWithLogitsLoss works with raw logits\n",
    "                   y_train) \n",
    "    acc = accuracy_fn(y_true=y_train, \n",
    "                      y_pred=y_pred) \n",
    "\n",
    "    # 3. loss backward\n",
    "    loss.backward()\n",
    "\n",
    "    # 4. Optimizer step \n",
    "    optimizer.step()\n",
    "\n",
    "    # 5. Optimizer zero grad\n",
    "    optimizer.zero_grad()\n",
    "\n",
    "    ### Testing \n",
    "    model_0.eval()\n",
    "    with torch.inference_mode():\n",
    "        test_logits = model_0(X_test).squeeze()\n",
    "        test_pred = torch.round(torch.sigmoid(test_logits))\n",
    "\n",
    "        # 2. Caculate loss/accuracy\n",
    "        test_loss = loss_fn(test_logits, y_test)\n",
    "        test_acc = accuracy_fn(y_true=y_test, \n",
    "                              y_pred=test_pred)\n",
    "        if epoch % 10 == 0:\n",
    "            print(f\"Epoch: {epoch} | Loss: {loss:.5f}, Accuracy: {acc:.2f}% | Test loss: {test_loss:.5f}, Test acc: {test_acc:.2f}%\")"
   ]
  },
  {
   "cell_type": "code",
   "execution_count": null,
   "id": "7efe2379-7c7c-4ba9-bb4b-b7e231905c6d",
   "metadata": {},
   "outputs": [],
   "source": []
  }
 ],
 "metadata": {
  "kernelspec": {
   "display_name": "Python 3 (ipykernel)",
   "language": "python",
   "name": "python3"
  },
  "language_info": {
   "codemirror_mode": {
    "name": "ipython",
    "version": 3
   },
   "file_extension": ".py",
   "mimetype": "text/x-python",
   "name": "python",
   "nbconvert_exporter": "python",
   "pygments_lexer": "ipython3",
   "version": "3.13.3"
  }
 },
 "nbformat": 4,
 "nbformat_minor": 5
}
